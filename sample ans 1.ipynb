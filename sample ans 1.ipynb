{
 "cells": [
  {
   "cell_type": "code",
   "execution_count": 43,
   "id": "a78abf4f",
   "metadata": {},
   "outputs": [
    {
     "name": "stdout",
     "output_type": "stream",
     "text": [
      "Simplified expression:  Y + 1\n"
     ]
    }
   ],
   "source": [
    "import sympy as sp\n",
    "\n",
    "X, Y = sp.symbols('X Y')\n",
    "expr = (X + X * Y) / X\n",
    "simplified_expr = sp.simplify(expr)\n",
    "print(\"Simplified expression: \", simplified_expr)\n",
    "\n"
   ]
  },
  {
   "cell_type": "code",
   "execution_count": 2,
   "id": "4577823d",
   "metadata": {},
   "outputs": [
    {
     "name": "stdout",
     "output_type": "stream",
     "text": [
      "A^2:  Matrix([[7, 10], [15, 22]])\n"
     ]
    }
   ],
   "source": [
    "import sympy as sp\n",
    "\n",
    "A = sp.Matrix([[1, 2], [3, 4]])\n",
    "A_squared = A ** 2\n",
    "print(\"A^2: \", A_squared)\n"
   ]
  },
  {
   "cell_type": "code",
   "execution_count": 3,
   "id": "f71bdbfe",
   "metadata": {},
   "outputs": [
    {
     "name": "stdout",
     "output_type": "stream",
     "text": [
      "Solutions:  [-1, 1, -I, I]\n"
     ]
    }
   ],
   "source": [
    "import sympy as sp\n",
    "\n",
    "x = sp.Symbol('x')\n",
    "expr = x ** 4 - 1\n",
    "solutions = sp.solve(expr, x)\n",
    "print(\"Solutions: \", solutions)\n"
   ]
  },
  {
   "cell_type": "code",
   "execution_count": 49,
   "id": "101ac960",
   "metadata": {},
   "outputs": [
    {
     "name": "stdout",
     "output_type": "stream",
     "text": [
      "[]\n",
      "[]\n"
     ]
    },
    {
     "ename": "AttributeError",
     "evalue": "Predicate without definition (or error in resolver): mark[1]==/3",
     "output_type": "error",
     "traceback": [
      "\u001b[1;31m---------------------------------------------------------------------------\u001b[0m",
      "\u001b[1;31mAttributeError\u001b[0m                            Traceback (most recent call last)",
      "Cell \u001b[1;32mIn[49], line 15\u001b[0m\n\u001b[0;32m     13\u001b[0m \u001b[38;5;28mprint\u001b[39m(student[X] \u001b[38;5;241m==\u001b[39m mark)  \u001b[38;5;66;03m# Print student name and mark of all students\u001b[39;00m\n\u001b[0;32m     14\u001b[0m \u001b[38;5;28mprint\u001b[39m(student[X] \u001b[38;5;241m==\u001b[39m \u001b[38;5;241m80\u001b[39m)  \u001b[38;5;66;03m# Who has scored 80 marks?\u001b[39;00m\n\u001b[1;32m---> 15\u001b[0m \u001b[38;5;28;43mprint\u001b[39;49m\u001b[43m(\u001b[49m\u001b[43mmark\u001b[49m\u001b[43m[\u001b[49m\u001b[38;5;124;43m'\u001b[39;49m\u001b[38;5;124;43mPriya\u001b[39;49m\u001b[38;5;124;43m'\u001b[39;49m\u001b[43m]\u001b[49m\u001b[43m \u001b[49m\u001b[38;5;241;43m==\u001b[39;49m\u001b[43m \u001b[49m\u001b[43mX\u001b[49m\u001b[43m)\u001b[49m  \u001b[38;5;66;03m# What mark has been scored by Priya?\u001b[39;00m\n\u001b[0;32m     17\u001b[0m \u001b[38;5;66;03m# Rules\u001b[39;00m\n\u001b[0;32m     18\u001b[0m (pyDatalog\n\u001b[0;32m     19\u001b[0m     \u001b[38;5;241m.\u001b[39mcreate_terms(\u001b[38;5;124m'\u001b[39m\u001b[38;5;124mpassm\u001b[39m\u001b[38;5;124m'\u001b[39m)\n\u001b[0;32m     20\u001b[0m     \u001b[38;5;241m.\u001b[39massert_fact(\u001b[38;5;124m'\u001b[39m\u001b[38;5;124mpassm\u001b[39m\u001b[38;5;124m'\u001b[39m, \u001b[38;5;241m50\u001b[39m))\n",
      "File \u001b[1;32m~\\anaconda3\\lib\\site-packages\\pyDatalog\\pyParser.py:134\u001b[0m, in \u001b[0;36mLazyListOfList.__str__\u001b[1;34m(self)\u001b[0m\n\u001b[0;32m    133\u001b[0m \u001b[38;5;28;01mdef\u001b[39;00m \u001b[38;5;21m__str__\u001b[39m(\u001b[38;5;28mself\u001b[39m):\n\u001b[1;32m--> 134\u001b[0m     \u001b[38;5;28;01mreturn\u001b[39;00m util\u001b[38;5;241m.\u001b[39mcast_to_str(\u001b[38;5;28;43mself\u001b[39;49m\u001b[38;5;241;43m.\u001b[39;49m\u001b[43m__unicode__\u001b[49m\u001b[43m(\u001b[49m\u001b[43m)\u001b[49m)\n",
      "File \u001b[1;32m~\\anaconda3\\lib\\site-packages\\pyDatalog\\pyParser.py:604\u001b[0m, in \u001b[0;36mQuery.__unicode__\u001b[1;34m(self)\u001b[0m\n\u001b[0;32m    603\u001b[0m \u001b[38;5;28;01mdef\u001b[39;00m \u001b[38;5;21m__unicode__\u001b[39m(\u001b[38;5;28mself\u001b[39m):\n\u001b[1;32m--> 604\u001b[0m     \u001b[38;5;28;01mreturn\u001b[39;00m \u001b[43mLazyListOfList\u001b[49m\u001b[38;5;241;43m.\u001b[39;49m\u001b[43m__unicode__\u001b[49m\u001b[43m(\u001b[49m\u001b[38;5;28;43mself\u001b[39;49m\u001b[43m)\u001b[49m\n",
      "File \u001b[1;32m~\\anaconda3\\lib\\site-packages\\pyDatalog\\pyParser.py:118\u001b[0m, in \u001b[0;36mLazyListOfList.__unicode__\u001b[1;34m(self)\u001b[0m\n\u001b[0;32m    116\u001b[0m \u001b[38;5;28;01mdef\u001b[39;00m \u001b[38;5;21m__unicode__\u001b[39m(\u001b[38;5;28mself\u001b[39m):\n\u001b[0;32m    117\u001b[0m     \u001b[38;5;124;03m\"\"\" pretty print the result \"\"\"\u001b[39;00m\n\u001b[1;32m--> 118\u001b[0m     \u001b[38;5;28;01mif\u001b[39;00m \u001b[38;5;28;43mself\u001b[39;49m\u001b[38;5;241;43m.\u001b[39;49m\u001b[43mdata\u001b[49m \u001b[38;5;129;01min\u001b[39;00m (\u001b[38;5;28;01mTrue\u001b[39;00m, [], [()]): \u001b[38;5;28;01mreturn\u001b[39;00m util\u001b[38;5;241m.\u001b[39municode_type(\u001b[38;5;28mself\u001b[39m\u001b[38;5;241m.\u001b[39m_data)\n\u001b[0;32m    119\u001b[0m     \u001b[38;5;66;03m# get the widths of each column\u001b[39;00m\n\u001b[0;32m    120\u001b[0m     widths \u001b[38;5;241m=\u001b[39m [\u001b[38;5;28mmax\u001b[39m(\u001b[38;5;28mlen\u001b[39m(util\u001b[38;5;241m.\u001b[39municode_type(x)) \u001b[38;5;28;01mfor\u001b[39;00m x \u001b[38;5;129;01min\u001b[39;00m column) \u001b[38;5;28;01mfor\u001b[39;00m column \u001b[38;5;129;01min\u001b[39;00m \u001b[38;5;28mzip\u001b[39m(\u001b[38;5;241m*\u001b[39m(\u001b[38;5;28mself\u001b[39m\u001b[38;5;241m.\u001b[39m_data))]\n",
      "File \u001b[1;32m~\\anaconda3\\lib\\site-packages\\pyDatalog\\pyParser.py:93\u001b[0m, in \u001b[0;36mLazyList.data\u001b[1;34m(self)\u001b[0m\n\u001b[0;32m     91\u001b[0m \u001b[38;5;28;01mif\u001b[39;00m \u001b[38;5;28mself\u001b[39m\u001b[38;5;241m.\u001b[39mtodo \u001b[38;5;129;01mis\u001b[39;00m \u001b[38;5;129;01mnot\u001b[39;00m \u001b[38;5;28;01mNone\u001b[39;00m:\n\u001b[0;32m     92\u001b[0m     \u001b[38;5;28mself\u001b[39m\u001b[38;5;241m.\u001b[39mvariables \u001b[38;5;241m=\u001b[39m \u001b[38;5;28mtuple\u001b[39m(\u001b[38;5;28mself\u001b[39m\u001b[38;5;241m.\u001b[39mtodo\u001b[38;5;241m.\u001b[39m_variables()\u001b[38;5;241m.\u001b[39mkeys()) \n\u001b[1;32m---> 93\u001b[0m     \u001b[38;5;28;43mself\u001b[39;49m\u001b[38;5;241;43m.\u001b[39;49m\u001b[43mtodo\u001b[49m\u001b[38;5;241;43m.\u001b[39;49m\u001b[43mask\u001b[49m\u001b[43m(\u001b[49m\u001b[43m)\u001b[49m\n\u001b[0;32m     94\u001b[0m \u001b[38;5;28;01mreturn\u001b[39;00m \u001b[38;5;28mself\u001b[39m\u001b[38;5;241m.\u001b[39m_data\n",
      "File \u001b[1;32m~\\anaconda3\\lib\\site-packages\\pyDatalog\\pyParser.py:577\u001b[0m, in \u001b[0;36mQuery.ask\u001b[1;34m(self)\u001b[0m\n\u001b[0;32m    576\u001b[0m \u001b[38;5;28;01mdef\u001b[39;00m \u001b[38;5;21mask\u001b[39m(\u001b[38;5;28mself\u001b[39m):\n\u001b[1;32m--> 577\u001b[0m     \u001b[38;5;28mself\u001b[39m\u001b[38;5;241m.\u001b[39m_data \u001b[38;5;241m=\u001b[39m \u001b[43mBody\u001b[49m\u001b[43m(\u001b[49m\u001b[38;5;28;43mself\u001b[39;49m\u001b[38;5;241;43m.\u001b[39;49m\u001b[43mpre_calculations\u001b[49m\u001b[43m,\u001b[49m\u001b[43m \u001b[49m\u001b[38;5;28;43mself\u001b[39;49m\u001b[43m)\u001b[49m\u001b[38;5;241;43m.\u001b[39;49m\u001b[43mask\u001b[49m\u001b[43m(\u001b[49m\u001b[43m)\u001b[49m\n\u001b[0;32m    578\u001b[0m     \u001b[38;5;28mself\u001b[39m\u001b[38;5;241m.\u001b[39mtodo \u001b[38;5;241m=\u001b[39m \u001b[38;5;28;01mNone\u001b[39;00m\n\u001b[0;32m    579\u001b[0m     \u001b[38;5;28;01mreturn\u001b[39;00m \u001b[38;5;28mself\u001b[39m\u001b[38;5;241m.\u001b[39m_data\n",
      "File \u001b[1;32m~\\anaconda3\\lib\\site-packages\\pyDatalog\\pyParser.py:693\u001b[0m, in \u001b[0;36mBody.ask\u001b[1;34m(self)\u001b[0m\n\u001b[0;32m    691\u001b[0m \u001b[38;5;124;03m\"\"\" resolve the query and determine the values of its variables\"\"\"\u001b[39;00m\n\u001b[0;32m    692\u001b[0m literal \u001b[38;5;241m=\u001b[39m \u001b[38;5;28mself\u001b[39m\u001b[38;5;241m.\u001b[39mliteral()\n\u001b[1;32m--> 693\u001b[0m \u001b[38;5;28mself\u001b[39m\u001b[38;5;241m.\u001b[39m_data \u001b[38;5;241m=\u001b[39m \u001b[43mliteral\u001b[49m\u001b[38;5;241;43m.\u001b[39;49m\u001b[43mlua\u001b[49m\u001b[38;5;241;43m.\u001b[39;49m\u001b[43mask\u001b[49m\u001b[43m(\u001b[49m\u001b[43m)\u001b[49m\n\u001b[0;32m    694\u001b[0m literal\u001b[38;5;241m.\u001b[39mtodo, \u001b[38;5;28mself\u001b[39m\u001b[38;5;241m.\u001b[39mtodo \u001b[38;5;241m=\u001b[39m \u001b[38;5;28;01mNone\u001b[39;00m, \u001b[38;5;28;01mNone\u001b[39;00m\n\u001b[0;32m    695\u001b[0m \u001b[38;5;241m-\u001b[39m (literal \u001b[38;5;241m<\u001b[39m\u001b[38;5;241m=\u001b[39m \u001b[38;5;28mself\u001b[39m) \u001b[38;5;66;03m# delete the temporary clause\u001b[39;00m\n",
      "File \u001b[1;32m~\\anaconda3\\lib\\site-packages\\pyDatalog\\pyEngine.py:513\u001b[0m, in \u001b[0;36mpyDatalog.pyEngine.Literal.ask\u001b[1;34m()\u001b[0m\n",
      "File \u001b[1;32m~\\anaconda3\\lib\\site-packages\\pyDatalog\\pyEngine.py:812\u001b[0m, in \u001b[0;36mpyDatalog.pyEngine.Subgoal.search\u001b[1;34m()\u001b[0m\n",
      "\u001b[1;31mAttributeError\u001b[0m: Predicate without definition (or error in resolver): mark[1]==/3"
     ]
    }
   ],
   "source": [
    "from pyDatalog import pyDatalog\n",
    "\n",
    "pyDatalog.create_terms('student, X, mark')\n",
    "\n",
    "# Data\n",
    "student['Ram'] = 90\n",
    "student['Raju'] = 45\n",
    "student['Priya'] = 85\n",
    "student['Carol'] = 70\n",
    "student['Shyam'] = 80\n",
    "\n",
    "# Queries\n",
    "print(student[X] == mark)  # Print student name and mark of all students\n",
    "print(student[X] == 80)  # Who has scored 80 marks?\n",
    "print(mark['Priya'] == X)  # What mark has been scored by Priya?\n",
    "\n",
    "# Rules\n",
    "(pyDatalog\n",
    "    .create_terms('passm')\n",
    "    .assert_fact('passm', 50))\n",
    "\n",
    "print(student[X] == mark & (mark < passm[X]))  # Print all students who failed\n",
    "\n",
    "# Grade letters\n",
    "(pyDatalog\n",
    "    .create_terms('grade, A, B, C, D')\n",
    "    .assert_fact('grade', (90, 100, 'A'))\n",
    "    .assert_fact('grade', (80, 89, 'B'))\n",
    "    .assert_fact('grade', (70, 79, 'C'))\n",
    "    .assert_fact('grade', (60, 69, 'D')))\n",
    "\n",
    "print(grade[X, Y] & (mark == X) & (Y == grade[(Y[0] <= X) & (X <= Y[1])]))  # Find the grade letter of a given mark\n"
   ]
  },
  {
   "cell_type": "code",
   "execution_count": 53,
   "id": "2040760a",
   "metadata": {},
   "outputs": [
    {
     "name": "stdout",
     "output_type": "stream",
     "text": [
      "Even: 2\n",
      "Even: 4\n",
      "Even: 6\n",
      "Even: 8\n",
      "Even: 10\n",
      "Even: 12\n",
      "Even: 14\n",
      "Even: 16\n",
      "Divisible by 3 and 5: 15\n",
      "Done!\n"
     ]
    }
   ],
   "source": [
    "import threading\n",
    "\n",
    "n = 16\n",
    "\n",
    "def print_even_numbers():\n",
    "    for i in range(2, n+1, 2):\n",
    "        print(f\"Even: {i}\")\n",
    "        \n",
    "def print_numbers_divisible_by_3_5():\n",
    "    for i in range(1, n+1):\n",
    "        if i % 3 == 0 and i % 5 == 0:\n",
    "            print(f\"Divisible by 3 and 5: {i}\")\n",
    "        \n",
    "# Create threads\n",
    "t1 = threading.Thread(target=print_even_numbers)\n",
    "t2 = threading.Thread(target=print_numbers_divisible_by_3_5)\n",
    "\n",
    "# Start threads\n",
    "t1.start()\n",
    "t2.start()\n",
    "\n",
    "# Wait for threads to finish\n",
    "t1.join()\n",
    "t2.join()\n",
    "\n",
    "print(\"Done!\")\n"
   ]
  },
  {
   "cell_type": "code",
   "execution_count": 8,
   "id": "2a720459",
   "metadata": {},
   "outputs": [
    {
     "name": "stdout",
     "output_type": "stream",
     "text": [
      "Enter a number between 0 and 1000: 500\n",
      "The sum of the digits in the number is: 5\n"
     ]
    }
   ],
   "source": [
    "while True:\n",
    "    num = int(input(\"Enter a number between 0 and 1000: \"))\n",
    "    if num >= 0 and num <= 1000:\n",
    "        break\n",
    "    else:\n",
    "        print(\"Invalid number. Please enter a number between 0 and 1000.\")\n",
    "\n",
    "sum = 0\n",
    "for digit in str(num):\n",
    "    sum += int(digit)\n",
    "\n",
    "print(\"The sum of the digits in the number is:\", sum)\n"
   ]
  },
  {
   "cell_type": "code",
   "execution_count": 9,
   "id": "ae16078a",
   "metadata": {},
   "outputs": [
    {
     "name": "stdout",
     "output_type": "stream",
     "text": [
      "[(101, 'The Godfather', 'Crime, Drama', 'English', 10.12), (103, 'The Dark Knight', 'Action, Crime, Drama', 'English', 9.9), (104, 'Pulp Fiction', 'Crime, Drama', 'English', 9.790000000000001), (105, 'Forrest Gump', 'Drama, Romance', 'English', 9.680000000000001)]\n"
     ]
    }
   ],
   "source": [
    "import sqlite3\n",
    "\n",
    "# Create a connection to the database\n",
    "conn = sqlite3.connect('movies.db')\n",
    "\n",
    "# Create a cursor object to execute queries\n",
    "c = conn.cursor()\n",
    "\n",
    "# Create the movie table if it doesn't exist\n",
    "c.execute('''CREATE TABLE IF NOT EXISTS movie (\n",
    "                Movie_ID INTEGER PRIMARY KEY,\n",
    "                Movie_Name TEXT,\n",
    "                Genre TEXT,\n",
    "                Language TEXT,\n",
    "                Rating REAL\n",
    "            )''')\n",
    "\n",
    "# Insert sample data into the movie table\n",
    "c.execute(\"INSERT INTO movie VALUES (101, 'The Godfather', 'Crime, Drama', 'English', 9.2)\")\n",
    "c.execute(\"INSERT INTO movie VALUES (102, 'The Shawshank Redemption', 'Drama', 'English', 9.3)\")\n",
    "c.execute(\"INSERT INTO movie VALUES (103, 'The Dark Knight', 'Action, Crime, Drama', 'English', 9.0)\")\n",
    "c.execute(\"INSERT INTO movie VALUES (104, 'Pulp Fiction', 'Crime, Drama', 'English', 8.9)\")\n",
    "c.execute(\"INSERT INTO movie VALUES (105, 'Forrest Gump', 'Drama, Romance', 'English', 8.8)\")\n",
    "\n",
    "# Update movie ratings by 10%\n",
    "c.execute(\"UPDATE movie SET Rating = Rating * 1.1\")\n",
    "\n",
    "# Delete movie with movie_id 102\n",
    "c.execute(\"DELETE FROM movie WHERE Movie_ID = 102\")\n",
    "\n",
    "# Select movies whose rating is more than 3\n",
    "c.execute(\"SELECT * FROM movie WHERE Rating > 3\")\n",
    "\n",
    "# Print the result of the query\n",
    "print(c.fetchall())\n",
    "\n",
    "# Commit changes and close the connection\n",
    "conn.commit()\n",
    "conn.close()\n"
   ]
  },
  {
   "cell_type": "code",
   "execution_count": 61,
   "id": "5c0633cd",
   "metadata": {},
   "outputs": [
    {
     "name": "stdout",
     "output_type": "stream",
     "text": [
      "List of students who failed in one or more subjects:\n",
      "['Raju', 45, 50, 30, 55, 40]\n",
      "['Carol', 70, 80, 65, 45, 75]\n"
     ]
    }
   ],
   "source": [
    "# marks of the students in 5 different subjects\n",
    "marks = [\n",
    "    ['Ram', 90, 75, 80, 60, 85],\n",
    "    ['Raju', 45, 50, 30, 55, 40],\n",
    "    ['Priya', 85, 90, 75, 80, 95],\n",
    "    ['Carol', 70, 80, 65, 45, 75],\n",
    "    ['Shyam', 80, 70, 75, 85, 90]\n",
    "]\n",
    "\n",
    "# function to check if a student failed in one or more subjects\n",
    "def has_failed(m):\n",
    "    return any(mark < 50 for mark in m[1:])\n",
    "\n",
    "# filter the students who failed in one or more subjects\n",
    "failed_students = list(filter(has_failed, marks))\n",
    "\n",
    "# print the list of failed students\n",
    "print(\"List of students who failed in one or more subjects:\")\n",
    "for student in failed_students:\n",
    "    print(student)\n"
   ]
  },
  {
   "cell_type": "code",
   "execution_count": 11,
   "id": "a43ceac5",
   "metadata": {},
   "outputs": [
    {
     "name": "stdout",
     "output_type": "stream",
     "text": [
      "Manager Name: John, Department: Marketing, Salary: 50000\n",
      "Executive Manager Name: Alice, Department: Finance, Salary: 80000\n"
     ]
    }
   ],
   "source": [
    "class Employee:\n",
    "    def __init__(self, name, salary):\n",
    "        self.name = name\n",
    "        self.salary = salary\n",
    "\n",
    "class Manager(Employee):\n",
    "    def __init__(self, name, salary, department):\n",
    "        super().__init__(name, salary)\n",
    "        self.department = department\n",
    "    \n",
    "    def __str__(self):\n",
    "        return f\"Manager Name: {self.name}, Department: {self.department}, Salary: {self.salary}\"\n",
    "        \n",
    "class Executive(Manager):\n",
    "    def __str__(self):\n",
    "        return f\"Executive {super().__str__()}\"\n",
    "        \n",
    "# Test Program\n",
    "manager1 = Manager(\"John\", 50000, \"Marketing\")\n",
    "print(manager1)\n",
    "\n",
    "executive1 = Executive(\"Alice\", 80000, \"Finance\")\n",
    "print(executive1)\n"
   ]
  },
  {
   "cell_type": "code",
   "execution_count": 17,
   "id": "0e4b761d",
   "metadata": {},
   "outputs": [
    {
     "name": "stdout",
     "output_type": "stream",
     "text": [
      "Requirement already satisfied: pyDatalog in c:\\users\\xrish\\anaconda3\\lib\\site-packages (0.17.4)\n",
      "Note: you may need to restart the kernel to use updated packages.\n"
     ]
    }
   ],
   "source": [
    "pip install pyDatalog\n"
   ]
  },
  {
   "cell_type": "code",
   "execution_count": 1,
   "id": "03bc6093",
   "metadata": {},
   "outputs": [
    {
     "name": "stdout",
     "output_type": "stream",
     "text": [
      "X | Y\n",
      "--|--\n",
      "e | d\n",
      "d | e\n",
      "c | b\n",
      "b | c\n",
      "X | Y\n",
      "--|--\n",
      "f | e\n",
      "f | d\n",
      "d | f\n",
      "e | f\n"
     ]
    }
   ],
   "source": [
    "from pyDatalog import pyDatalog\n",
    "\n",
    "pyDatalog.create_terms('father, brother, cousin, grandson, descendent, X, Y, Z, Z1, Z2')\n",
    "\n",
    "# define the facts\n",
    "+father('a', 'b')\n",
    "+father('a', 'c')\n",
    "+father('b', 'd')\n",
    "+father('b', 'e')\n",
    "+father('c', 'f')\n",
    "\n",
    "# define the brother predicate\n",
    "brother(X, Y) <= (father(Z, X) & father(Z, Y) & (X != Y))\n",
    "\n",
    "# define the cousin predicate\n",
    "cousin(X, Y) <= (father(Z1, X) & father(Z2, Y) & brother(Z1, Z2))\n",
    "\n",
    "# define the grandson predicate\n",
    "grandson(X, Y) <= (father(Y, Z) & father(Z, X))\n",
    "\n",
    "# define the descendent predicate\n",
    "descendent(X, Y) <= (father(Y, X))\n",
    "descendent(X, Y) <= (father(Z, X) & descendent(Z, Y))\n",
    "\n",
    "print(brother(X, Y))\n",
    "\n",
    "print(cousin(X, Y))\n"
   ]
  },
  {
   "cell_type": "code",
   "execution_count": 2,
   "id": "7717931f",
   "metadata": {},
   "outputs": [
    {
     "name": "stdout",
     "output_type": "stream",
     "text": [
      "The tuition in ten years will be: $16288.95\n",
      "The total cost of four years' tuition starting ten years from now will be: $70207.39\n"
     ]
    }
   ],
   "source": [
    "tuition = 10000\n",
    "rate = 0.05\n",
    "\n",
    "# compute tuition in ten years\n",
    "for i in range(10):\n",
    "    tuition += tuition * rate\n",
    "\n",
    "print(f\"The tuition in ten years will be: ${tuition:.2f}\")\n",
    "\n",
    "# compute total cost of four years' tuition starting in ten years\n",
    "total_cost = 0\n",
    "for i in range(10, 14):\n",
    "    year_cost = tuition * (1 + rate)**(i - 10)\n",
    "    total_cost += year_cost\n",
    "\n",
    "print(f\"The total cost of four years' tuition starting ten years from now will be: ${total_cost:.2f}\")\n"
   ]
  },
  {
   "cell_type": "code",
   "execution_count": 3,
   "id": "5d6d64f1",
   "metadata": {},
   "outputs": [
    {
     "name": "stdout",
     "output_type": "stream",
     "text": [
      "Customers living nearby with pincode '10001':  ['John', 'Mary']\n",
      "Customers living nearby with pincode '10001' and name 'John':  ['Mary']\n"
     ]
    }
   ],
   "source": [
    "class Customer:\n",
    "    def __init__(self, name, address):\n",
    "        self.name = name\n",
    "        self.address = address\n",
    "        \n",
    "class Bank:\n",
    "    def __init__(self, customers):\n",
    "        self.customers = customers\n",
    "        \n",
    "    def find_nearby_customers(self, pincode, name=None):\n",
    "        nearby_customers = []\n",
    "        for customer in self.customers:\n",
    "            if customer.address['pincode'] == pincode:\n",
    "                if name is None:\n",
    "                    nearby_customers.append(customer.name)\n",
    "                elif customer.name != name:\n",
    "                    nearby_customers.append(customer.name)\n",
    "        return nearby_customers\n",
    "\n",
    "# Example usage\n",
    "customers = [Customer('John', {'street': '123 Main St', 'city': 'New York', 'state': 'NY', 'pincode': '10001'}), \n",
    "             Customer('Mary', {'street': '456 Oak St', 'city': 'New York', 'state': 'NY', 'pincode': '10001'}),\n",
    "             Customer('Bob', {'street': '789 Elm St', 'city': 'Los Angeles', 'state': 'CA', 'pincode': '90001'})]\n",
    "             \n",
    "bank = Bank(customers)\n",
    "\n",
    "# Find nearby customers with pincode '10001'\n",
    "nearby_customers = bank.find_nearby_customers('10001')\n",
    "print(\"Customers living nearby with pincode '10001': \", nearby_customers)\n",
    "\n",
    "# Find nearby customers with pincode '10001' and name 'John'\n",
    "nearby_customers = bank.find_nearby_customers('10001', 'John')\n",
    "print(\"Customers living nearby with pincode '10001' and name 'John': \", nearby_customers)\n"
   ]
  },
  {
   "cell_type": "code",
   "execution_count": 5,
   "id": "6eb165ec",
   "metadata": {},
   "outputs": [],
   "source": [
    "import sqlite3\n",
    "\n",
    "# create a connection to the database\n",
    "conn = sqlite3.connect('employees.db')\n",
    "\n",
    "# create a cursor object\n",
    "c = conn.cursor()\n",
    "\n",
    "# create the employees table\n",
    "c.execute('''CREATE TABLE employees (\n",
    "                employee_id INTEGER PRIMARY KEY,\n",
    "                first_name TEXT,\n",
    "                last_name TEXT,\n",
    "                email TEXT,\n",
    "                phone_number TEXT,\n",
    "                hire_date TEXT,\n",
    "                job_id TEXT,\n",
    "                salary REAL,\n",
    "                commission REAL,\n",
    "                manager_id INTEGER,\n",
    "                department_id INTEGER\n",
    "            )''')\n",
    "\n",
    "# insert values into the employees table\n",
    "c.execute('''INSERT INTO employees (employee_id, first_name, last_name, email, phone_number, hire_date, job_id, salary, commission, manager_id, department_id)\n",
    "                VALUES \n",
    "                (1, 'John', 'Doe', 'johndoe@example.com', '123-456-7890', '2022-05-20', 'IT_PROG', 50000, NULL, 2, 10),\n",
    "                (2, 'Jane', 'Smith', 'janesmith@example.com', '234-567-8901', '2022-05-20', 'IT_PROG', 60000, NULL, 2, 20),\n",
    "                (3, 'Bob', 'Johnson', 'bobjohnson@example.com', '345-678-9012', '2022-05-20', 'SA_MAN', 75000, 15000, 2, 30)''')\n",
    "\n",
    "# commit the changes to the database\n",
    "conn.commit()\n",
    "\n",
    "# close the connection to the database\n",
    "conn.close()\n"
   ]
  },
  {
   "cell_type": "code",
   "execution_count": 6,
   "id": "6d10103c",
   "metadata": {},
   "outputs": [
    {
     "name": "stdout",
     "output_type": "stream",
     "text": [
      "('John', 'Doe')\n",
      "('Jane', 'Smith')\n",
      "('Bob', 'Johnson')\n"
     ]
    }
   ],
   "source": [
    "import sqlite3\n",
    "\n",
    "# create a connection to the database\n",
    "conn = sqlite3.connect('employees.db')\n",
    "\n",
    "# create a cursor object\n",
    "c = conn.cursor()\n",
    "\n",
    "# execute the query\n",
    "c.execute('''SELECT first_name, last_name\n",
    "               FROM employees\n",
    "               WHERE salary > 25000''')\n",
    "\n",
    "# fetch the results\n",
    "results = c.fetchall()\n",
    "\n",
    "# print the results\n",
    "for result in results:\n",
    "  print(result)\n",
    "\n",
    "# close the connection to the database\n",
    "conn.close()\n"
   ]
  },
  {
   "cell_type": "code",
   "execution_count": 7,
   "id": "88d1ffe8",
   "metadata": {},
   "outputs": [
    {
     "name": "stdout",
     "output_type": "stream",
     "text": [
      "topic1: 2\n",
      "topic2: 2\n"
     ]
    }
   ],
   "source": [
    "import functools\n",
    "\n",
    "# Define the two trending topics\n",
    "topics = [\"topic1\", \"topic2\"]\n",
    "\n",
    "# Get the tweets\n",
    "tweets = [\n",
    "  \"This is a tweet about topic1\",\n",
    "  \"This is another tweet about topic1\",\n",
    "  \"This is a tweet about topic2\",\n",
    "  \"This is another tweet about topic2\",\n",
    "]\n",
    "\n",
    "# Count the number of tweets that contain each topic\n",
    "tweet_counts = {topic: len(list(filter(lambda tweet: topic in tweet, tweets))) for topic in topics}\n",
    "\n",
    "# Print the results\n",
    "for topic, count in tweet_counts.items():\n",
    "  print(f\"{topic}: {count}\")\n"
   ]
  },
  {
   "cell_type": "code",
   "execution_count": 65,
   "id": "09511e1f",
   "metadata": {},
   "outputs": [],
   "source": [
    "from tkinter import *\n",
    "\n",
    "root = Tk(className='registration form')\n",
    "\n",
    "first_name=Label(root, text=\"Name\",bg=\"green\", fg=\"black\").grid(row=1)\n",
    "myTitle=Label(root, text=\"Form\",bg=\"green\",fg=\"black\")\n",
    "myTitle.grid(row=0,column=1)\n",
    "e=Entry(root, width=35, borderwidth=5)\n",
    "e.grid(row=1, column=1, padx=10, pady=10)\n",
    "\n",
    "course_name=Label(root, text=\"Course\",bg=\"green\",fg=\"black\").grid(row=2)\n",
    "f=Entry(root, width=35, borderwidth=5)\n",
    "f.grid(row=2, column=1, padx=10, pady=10)\n",
    "\n",
    "Semester_name=Label(root, text=\"Semester\",bg=\"green\",fg=\"black\").grid(row=3)\n",
    "g=Entry(root, width=35, borderwidth=5)\n",
    "g.grid(row=3, column=1, padx=10, pady=10)\n",
    "\n",
    "form_name=Label(root, text=\"Form No.\",bg=\"green\",fg=\"black\").grid(row=4)\n",
    "h=Entry(root, width=35, borderwidth=5)\n",
    "h.grid(row=4, column=1, padx=10, pady=10)\n",
    "\n",
    "contact_name=Label(root, text=\"Contact No.\",bg=\"green\",fg=\"black\").grid(row=5)\n",
    "i=Entry(root, width=35, borderwidth=5)\n",
    "i.grid(row=5, column=1, padx=10, pady=10)\n",
    "\n",
    "email_name=Label(root, text=\"Email id\",bg=\"green\",fg=\"black\").grid(row=6)\n",
    "j=Entry(root, width=35, borderwidth=5)\n",
    "j.grid(row=6, column=1, padx=10, pady=10)\n",
    "\n",
    "addr_name=Label(root, text=\"Address\",bg=\"green\",fg=\"black\").grid(row=7)\n",
    "k=Entry(root, width=35, borderwidth=5)\n",
    "k.grid(row=7, column=1, padx=10, pady=10)\n",
    "\n",
    "button_sub= Button(root, text=\"Submit\",bg=\"red\",fg=\"black\")\n",
    "button_sub.grid(row=8, column=1)\n",
    "\n",
    "root.configure(bg='Green')\n",
    "root.mainloop()"
   ]
  },
  {
   "cell_type": "code",
   "execution_count": 66,
   "id": "97833006",
   "metadata": {},
   "outputs": [],
   "source": [
    "from tkinter import *\n",
    "from tkinter import ttk\n",
    "window = Tk()\n",
    "window.title(\"Address Entry Form\")\n",
    "window.geometry(\"300x225\")\n",
    "window.configure(background=\"grey\");\n",
    "a = Label(window,text =\"First Name:\").grid(row=0,column=0)\n",
    "b = Label(window,text =\"Last Name:\").grid(row=1,column=0)\n",
    "c = Label(window,text =\"Address Line 1:\").grid(row=2,column=0)\n",
    "d = Label(window,text =\"Address Line 2:\").grid(row=3,column=0)\n",
    "e = Label(window,text =\"City:\").grid(row=4,column=0)\n",
    "f = Label(window,text =\"State\\Province:\").grid(row=5,column=0)\n",
    "g = Label(window,text =\"Postal Code:\").grid(row=6,column=0)\n",
    "h = Label(window,text =\"Country:\").grid(row=7,column=0)\n",
    "a1 = Entry(window,width=50).grid(row=0,column=1)\n",
    "b1 = Entry(window,width=50).grid(row=1,column=1)\n",
    "c1 = Entry(window,width=50).grid(row=2,column=1)\n",
    "d1 = Entry(window,width=50).grid(row=3,column=1)\n",
    "e1 = Entry(window,width=50).grid(row=4,column=1)\n",
    "f1 = Entry(window,width=50).grid(row=5,column=1)\n",
    "g1 = Entry(window,width=50).grid(row=6,column=1)\n",
    "h1 = Entry(window,width=50).grid(row=7,column=1)\n",
    "def clear_text():\n",
    "  a1.delete(0,END)\n",
    "  b1.delete(0,END)\n",
    "  c1.delete(0,END)\n",
    "  d1.delete(0,END)\n",
    "  e1.delete(0,END)\n",
    "  f1.delete(0,END)\n",
    "  g1.delete(0,END)\n",
    "  h1.delete(0,END)\n",
    "Sub = ttk.Button(window, text=\"Submit\").grid(row=8,column=0)\n",
    "Clr = ttk.Button(window, text=\"Clear\", command = clear_text).grid(row=8,column=1)\n",
    "window.mainloop()"
   ]
  },
  {
   "cell_type": "code",
   "execution_count": 11,
   "id": "a2c92158",
   "metadata": {},
   "outputs": [
    {
     "name": "stdout",
     "output_type": "stream",
     "text": [
      "Note: you may need to restart the kernel to use updated packages.\n"
     ]
    },
    {
     "name": "stderr",
     "output_type": "stream",
     "text": [
      "ERROR: Could not find a version that satisfies the requirement nbtconvert (from versions: none)\n",
      "ERROR: No matching distribution found for nbtconvert\n"
     ]
    }
   ],
   "source": [
    "pip install nbtconvert\n"
   ]
  },
  {
   "cell_type": "code",
   "execution_count": 68,
   "id": "592d6ea4",
   "metadata": {},
   "outputs": [
    {
     "name": "stdout",
     "output_type": "stream",
     "text": [
      "Hello from Thread 50!\n",
      "Hello from Thread 49!\n",
      "Hello from Thread 48!\n",
      "Hello from Thread 47!\n",
      "Hello from Thread 46!\n",
      "Hello from Thread 45!\n",
      "Hello from Thread 44!\n",
      "Hello from Thread 43!\n",
      "Hello from Thread 42!\n",
      "Hello from Thread 41!\n",
      "Hello from Thread 40!\n",
      "Hello from Thread 39!\n",
      "Hello from Thread 38!\n",
      "Hello from Thread 37!\n",
      "Hello from Thread 36!\n",
      "Hello from Thread 35!\n",
      "Hello from Thread 34!\n",
      "Hello from Thread 33!\n",
      "Hello from Thread 32!\n",
      "Hello from Thread 31!\n",
      "Hello from Thread 30!\n",
      "Hello from Thread 29!\n",
      "Hello from Thread 28!\n",
      "Hello from Thread 27!\n",
      "Hello from Thread 26!\n",
      "Hello from Thread 25!\n",
      "Hello from Thread 24!\n",
      "Hello from Thread 23!\n",
      "Hello from Thread 22!\n",
      "Hello from Thread 21!\n",
      "Hello from Thread 20!\n",
      "Hello from Thread 19!\n",
      "Hello from Thread 18!\n",
      "Hello from Thread 17!\n",
      "Hello from Thread 16!\n",
      "Hello from Thread 15!\n",
      "Hello from Thread 14!\n",
      "Hello from Thread 13!\n",
      "Hello from Thread 12!\n",
      "Hello from Thread 11!\n",
      "Hello from Thread 10!\n",
      "Hello from Thread 9!\n",
      "Hello from Thread 8!\n",
      "Hello from Thread 7!\n",
      "Hello from Thread 6!\n",
      "Hello from Thread 5!\n",
      "Hello from Thread 4!\n",
      "Hello from Thread 3!\n",
      "Hello from Thread 2!\n",
      "Hello from Thread 1!\n"
     ]
    }
   ],
   "source": [
    "import threading\n",
    "\n",
    "\n",
    "def reverse_hello(num):\n",
    "    print(f\"Hello from Thread {num}!\")\n",
    "\n",
    "\n",
    "def main():\n",
    "    # Create threads\n",
    "    threads = []\n",
    "    for i in range(50,0,-1):\n",
    "        threads.append(threading.Thread(target=reverse_hello, args=(i,)))\n",
    "\n",
    "    # Start threads\n",
    "    for thread in threads:\n",
    "        thread.start()\n",
    "\n",
    "    # Join threads\n",
    "    for thread in threads:\n",
    "        thread.join()\n",
    "\n",
    "\n",
    "if __name__ == \"__main__\":\n",
    "    main()\n"
   ]
  },
  {
   "cell_type": "code",
   "execution_count": null,
   "id": "f5f8b5e1",
   "metadata": {},
   "outputs": [
    {
     "name": "stdout",
     "output_type": "stream",
     "text": [
      "Producing Item 0...\n",
      "Consuming Item 0...\n",
      "Producing Item 1...\n",
      "Producing Item 2...Consuming Item 1...\n",
      "\n",
      "Producing Item 3...\n",
      "Consuming Item 2...\n",
      "Producing Item 4...\n",
      "Producing Item 5...\n",
      "Consuming Item 3...\n",
      "Producing Item 6...\n",
      "Producing Item 7...\n",
      "Consuming Item 4...\n",
      "Producing Item 8...\n",
      "Producing Item 9...\n",
      "Consuming Item 5...\n",
      "Consuming Item 6...\n",
      "Consuming Item 7...\n",
      "Consuming Item 8...\n",
      "Consuming Item 9...\n"
     ]
    }
   ],
   "source": [
    "import threading\n",
    "import queue\n",
    "import time\n",
    "\n",
    "# Define the bounded buffer size\n",
    "BUFFER_SIZE = 5\n",
    "\n",
    "# Define the producer thread class\n",
    "class ProducerThread(threading.Thread):\n",
    "    def __init__(self, buffer):\n",
    "        super().__init__()\n",
    "        self.buffer = buffer\n",
    "    \n",
    "    def run(self):\n",
    "        for i in range(10):\n",
    "            item = \"Item {}\".format(i)\n",
    "            print(\"Producing {}...\".format(item))\n",
    "            self.buffer.put(item)\n",
    "            time.sleep(1)\n",
    "\n",
    "# Define the consumer thread class\n",
    "class ConsumerThread(threading.Thread):\n",
    "    def __init__(self, buffer):\n",
    "        super().__init__()\n",
    "        self.buffer = buffer\n",
    "    \n",
    "    def run(self):\n",
    "        while True:\n",
    "            item = self.buffer.get()\n",
    "            print(\"Consuming {}...\".format(item))\n",
    "            time.sleep(2)\n",
    "            self.buffer.task_done()\n",
    "\n",
    "# Create the bounded buffer\n",
    "buffer = queue.Queue(BUFFER_SIZE)\n",
    "\n",
    "# Create the producer and consumer threads\n",
    "producer = ProducerThread(buffer)\n",
    "consumer = ConsumerThread(buffer)\n",
    "\n",
    "# Start the threads\n",
    "producer.start()\n",
    "consumer.start()\n",
    "\n",
    "# Wait for the threads to finish\n",
    "producer.join()\n",
    "consumer.join()\n",
    "\n",
    "# Wait for the buffer to be empty\n",
    "buffer.join()\n"
   ]
  },
  {
   "cell_type": "code",
   "execution_count": 1,
   "id": "8fcd2bb2",
   "metadata": {},
   "outputs": [
    {
     "name": "stdout",
     "output_type": "stream",
     "text": [
      "X   \n",
      "----\n",
      "Bear\n"
     ]
    }
   ],
   "source": [
    "from pyDatalog import pyDatalog\n",
    "pyDatalog.create_terms(\"Bear,Elephant,Cat,Gray,Brown,Big,Small,size,Color,X,Dark\")\n",
    "+size(\"Bear\",\"Big\")\n",
    "+size(\"Elephant\",\"Big\")\n",
    "+size(\"Cat\",\"Small\")\n",
    "+Color(\"Bear\",\"Brown\")\n",
    "+Color(\"Cat\",\"Black\")\n",
    "+Color(\"Elephant\",\"Gray\")\n",
    "Dark(X) <= (Color(X,\"Black\"))\n",
    "Dark(X) <= (Color(X,\"Brown\"))\n",
    "print(Dark(X) & (size(X,\"Big\")))"
   ]
  },
  {
   "cell_type": "code",
   "execution_count": 2,
   "id": "a0d74bb4",
   "metadata": {},
   "outputs": [
    {
     "name": "stdout",
     "output_type": "stream",
     "text": [
      "x + y\n"
     ]
    }
   ],
   "source": [
    "from sympy import *\n",
    "x, y= symbols('x y')\n",
    "expr = (x+x*y/x)\n",
    "smpl= simplify(expr)\n",
    "print(smpl)"
   ]
  },
  {
   "cell_type": "code",
   "execution_count": 20,
   "id": "d7eab699",
   "metadata": {},
   "outputs": [
    {
     "name": "stdout",
     "output_type": "stream",
     "text": [
      "[-1, 1, -I, I]\n"
     ]
    }
   ],
   "source": [
    "from sympy import *\n",
    "x = symbols(\"x\")\n",
    "sol = solve(x**4-1,x)\n",
    "print(sol)"
   ]
  },
  {
   "cell_type": "code",
   "execution_count": 30,
   "id": "67201bd1",
   "metadata": {},
   "outputs": [
    {
     "data": {
      "text/latex": [
       "$\\displaystyle 1.414213562373095048801688724209698078569671875376948073176679737990732478462107038850387534327641573$"
      ],
      "text/plain": [
       "1.414213562373095048801688724209698078569671875376948073176679737990732478462107038850387534327641573"
      ]
     },
     "execution_count": 30,
     "metadata": {},
     "output_type": "execute_result"
    }
   ],
   "source": [
    "import sympy\n",
    "\n",
    "sympy.sqrt(2).n(100)"
   ]
  },
  {
   "cell_type": "code",
   "execution_count": 6,
   "id": "bebb04ec",
   "metadata": {},
   "outputs": [
    {
     "name": "stdout",
     "output_type": "stream",
     "text": [
      "5/6\n"
     ]
    }
   ],
   "source": [
    "from sympy import *\n",
    "cal = Rational(1,2) + Rational(1,3)\n",
    "print(cal)"
   ]
  },
  {
   "cell_type": "code",
   "execution_count": 7,
   "id": "7ed786d9",
   "metadata": {},
   "outputs": [
    {
     "name": "stdout",
     "output_type": "stream",
     "text": [
      "x**6 + 6*x**5*y + 15*x**4*y**2 + 20*x**3*y**3 + 15*x**2*y**4 + 6*x*y**5 + y**6\n"
     ]
    }
   ],
   "source": [
    "from sympy import *\n",
    "cal = expand((x+y)**6)\n",
    "print(cal)"
   ]
  },
  {
   "cell_type": "code",
   "execution_count": 8,
   "id": "9b4ea753",
   "metadata": {},
   "outputs": [
    {
     "name": "stdout",
     "output_type": "stream",
     "text": [
      "tan(x)\n"
     ]
    }
   ],
   "source": [
    "from sympy import *\n",
    "cal = simplify(sin(x)/cos(x))\n",
    "print(cal)"
   ]
  },
  {
   "cell_type": "code",
   "execution_count": 32,
   "id": "ad793f40",
   "metadata": {},
   "outputs": [
    {
     "data": {
      "text/latex": [
       "$\\displaystyle - n x^{4} + \\sin{\\left(x \\right)}$"
      ],
      "text/plain": [
       "-n*x**4 + sin(x)"
      ]
     },
     "execution_count": 32,
     "metadata": {},
     "output_type": "execute_result"
    }
   ],
   "source": [
    "from sympy import *\n",
    "x , n= symbols('x n')\n",
    "sin(x)- x*(x**3)*n"
   ]
  },
  {
   "cell_type": "code",
   "execution_count": 10,
   "id": "7eab35d0",
   "metadata": {},
   "outputs": [
    {
     "name": "stdout",
     "output_type": "stream",
     "text": [
      "a**2 - b**2\n"
     ]
    }
   ],
   "source": [
    "from sympy import *\n",
    "a,b = symbols('a b')\n",
    "expr = a**2- a*b + a*b - b**2\n",
    "cal = simplify(expr)\n",
    "print(cal)"
   ]
  },
  {
   "cell_type": "code",
   "execution_count": 39,
   "id": "80371619",
   "metadata": {},
   "outputs": [
    {
     "name": "stdout",
     "output_type": "stream",
     "text": [
      "a**4/12\n"
     ]
    }
   ],
   "source": [
    "from sympy import *\n",
    "a = symbols('a')\n",
    "x= integrate(integrate(a**2,a),a)\n",
    "#y = integrate(x,a)\n",
    "print(x)\n",
    "#diff(a**2,a)\n"
   ]
  },
  {
   "cell_type": "code",
   "execution_count": 40,
   "id": "055d594e",
   "metadata": {},
   "outputs": [
    {
     "name": "stdout",
     "output_type": "stream",
     "text": [
      "2*x + y**2\n"
     ]
    }
   ],
   "source": [
    "from sympy import *\n",
    "x,y = symbols('x y')\n",
    "expr = 2*x+y**2\n",
    "print(expr)"
   ]
  },
  {
   "cell_type": "code",
   "execution_count": 15,
   "id": "45f5fd7b",
   "metadata": {},
   "outputs": [
    {
     "data": {
      "text/latex": [
       "$\\displaystyle \\frac{3}{10}$"
      ],
      "text/plain": [
       "3/10"
      ]
     },
     "execution_count": 15,
     "metadata": {},
     "output_type": "execute_result"
    }
   ],
   "source": [
    "from sympy import *\n",
    "Rational(1,10)+Rational(1,5)"
   ]
  },
  {
   "cell_type": "code",
   "execution_count": 16,
   "id": "b26eb171",
   "metadata": {},
   "outputs": [
    {
     "data": {
      "text/latex": [
       "$\\displaystyle \\cos{\\left(x \\right)}$"
      ],
      "text/plain": [
       "cos(x)"
      ]
     },
     "execution_count": 16,
     "metadata": {},
     "output_type": "execute_result"
    }
   ],
   "source": [
    "from sympy import *\n",
    "x = symbols(\"x\")\n",
    "diff(sin(x),x)"
   ]
  },
  {
   "cell_type": "code",
   "execution_count": 17,
   "id": "d8717ae8",
   "metadata": {},
   "outputs": [
    {
     "name": "stdout",
     "output_type": "stream",
     "text": [
      "{x: -3, y: 1}\n"
     ]
    }
   ],
   "source": [
    "from sympy import *\n",
    "x,y = symbols('x y')\n",
    "eq1 = x+5*y-2\n",
    "eq2 = -3*x+6*y-15\n",
    "sol = solve((eq1,eq2),(x,y))\n",
    "print(sol)\n"
   ]
  },
  {
   "cell_type": "code",
   "execution_count": 18,
   "id": "b17de5b5",
   "metadata": {},
   "outputs": [
    {
     "name": "stdout",
     "output_type": "stream",
     "text": [
      "[-1/2 + sqrt(5)/2, 1/2 - sqrt(5)/2, 1/2 + sqrt(5)/2, -sqrt(5)/2 - 1/2]\n"
     ]
    }
   ],
   "source": [
    "from sympy import*\n",
    "x = symbols('x')\n",
    "expr= x**4-3*(x**2)+1\n",
    "cal = solve(expr,x)\n",
    "print(cal)"
   ]
  },
  {
   "cell_type": "code",
   "execution_count": 19,
   "id": "8462f96a",
   "metadata": {},
   "outputs": [
    {
     "name": "stdout",
     "output_type": "stream",
     "text": [
      "[[30, 40, 50, 55, 45], [50, 60, 65, 45, 55]]\n"
     ]
    }
   ],
   "source": [
    "# Define the list of student marks\n",
    "marks = [\n",
    "    [70, 80, 90, 85, 75],   # Student 1\n",
    "    [60, 55, 70, 65, 80],   # Student 2\n",
    "    [30, 40, 50, 55, 45],   # Student 3\n",
    "    [80, 70, 60, 75, 65],   # Student 4\n",
    "    [75, 80, 85, 90, 95],   # Student 5\n",
    "    [50, 60, 65, 45, 55],   # Student 6\n",
    "]\n",
    "\n",
    "# Define a function to check if a student has failed in one or more subjects\n",
    "def has_failed(marks):\n",
    "    for mark in marks:\n",
    "        if mark < 50:\n",
    "            return True\n",
    "    return False\n",
    "\n",
    "# Use the filter function to find the students who failed in one or more subjects\n",
    "failed_students = list(filter(has_failed, marks))\n",
    "\n",
    "# Print the list of failed students\n",
    "print(failed_students)\n"
   ]
  },
  {
   "cell_type": "code",
   "execution_count": 42,
   "id": "66bd5719",
   "metadata": {},
   "outputs": [
    {
     "name": "stdout",
     "output_type": "stream",
     "text": [
      "{x: 59*z/34, y: 33*z/34}\n"
     ]
    }
   ],
   "source": [
    "import sympy as sp\n",
    "\n",
    "# Define the variables\n",
    "x, y, z = sp.symbols('x y z')\n",
    "\n",
    "# Define the matrix of coefficients\n",
    "A = sp.Matrix([[3, 7, -12],\n",
    "               [4, -2, -5]])\n",
    "\n",
    "# Define the matrix of constants\n",
    "B = sp.Matrix([0, 0])\n",
    "\n",
    "# Define the matrix of variables\n",
    "X = sp.Matrix([x, y, z])\n",
    "\n",
    "# Solve the system of equations\n",
    "solution = sp.solve(A * X - B, (x, y, z))\n",
    "\n",
    "# Print the solution\n",
    "print(solution)\n"
   ]
  },
  {
   "cell_type": "code",
   "execution_count": null,
   "id": "55e97335",
   "metadata": {},
   "outputs": [],
   "source": []
  }
 ],
 "metadata": {
  "kernelspec": {
   "display_name": "Python 3 (ipykernel)",
   "language": "python",
   "name": "python3"
  },
  "language_info": {
   "codemirror_mode": {
    "name": "ipython",
    "version": 3
   },
   "file_extension": ".py",
   "mimetype": "text/x-python",
   "name": "python",
   "nbconvert_exporter": "python",
   "pygments_lexer": "ipython3",
   "version": "3.10.9"
  }
 },
 "nbformat": 4,
 "nbformat_minor": 5
}
