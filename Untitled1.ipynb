{
 "cells": [
  {
   "cell_type": "code",
   "execution_count": 1,
   "id": "9fa2d533",
   "metadata": {},
   "outputs": [
    {
     "name": "stdout",
     "output_type": "stream",
     "text": [
      "Requirement already satisfied: pyDatalog in c:\\users\\xrish\\anaconda3\\lib\\site-packages (0.17.4)\n",
      "Note: you may need to restart the kernel to use updated packages.\n"
     ]
    }
   ],
   "source": [
    "pip install pyDatalog\n"
   ]
  },
  {
   "cell_type": "code",
   "execution_count": 3,
   "id": "9356eaaa",
   "metadata": {},
   "outputs": [
    {
     "name": "stdout",
     "output_type": "stream",
     "text": [
      "X   \n",
      "----\n",
      "Bear\n"
     ]
    }
   ],
   "source": [
    "from pyDatalog import pyDatalog\n",
    "pyDatalog.create_terms(\"Bear,Elephant,Cat,Gray,Brown,Big,Small,size,Color,X,Dark\")\n",
    "+size(\"Bear\",\"Big\")\n",
    "+size(\"Elephant\",\"Big\")\n",
    "+size(\"Cat\",\"Small\")\n",
    "+Color(\"Bear\",\"Brown\")\n",
    "+Color(\"Cat\",\"Black\")\n",
    "+Color(\"Elephant\",\"Gray\")\n",
    "Dark(X) <= (Color(X,\"Black\"))\n",
    "Dark(X) <= (Color(X,\"Brown\"))\n",
    "print(Dark(X) & (size(X,\"Big\")))"
   ]
  },
  {
   "cell_type": "code",
   "execution_count": 6,
   "id": "d0af7aeb",
   "metadata": {},
   "outputs": [
    {
     "name": "stdout",
     "output_type": "stream",
     "text": [
      "[]\n"
     ]
    }
   ],
   "source": [
    "from pyDatalog import pyDatalog\n",
    "pyDatalog.create_terms(\"a,b,c,d,e,f,x,y,brother,cousin,father,grandson,descendent\")\n",
    "+brother(\"b\",\"c\")\n",
    "+brother(\"d\",\"e\")\n",
    "+cousin(\"d\",\"f\")\n",
    "+cousin(\"e\",\"f\")\n",
    "+grandson(\"d\",\"a\")\n",
    "+grandson(\"e\",\"a\")\n",
    "+grandson(\"f\",\"a\")\n",
    "+descendent(\"d\",\"b\")\n",
    "+descendent(\"e\",\"b\")\n",
    "+descendent(\"f\",\"c\")\n",
    "+descendent(\"c\",\"a\")\n",
    "+descendent(\"b\",\"a\")\n"
   ]
  },
  {
   "cell_type": "code",
   "execution_count": 7,
   "id": "e382e581",
   "metadata": {},
   "outputs": [
    {
     "name": "stdout",
     "output_type": "stream",
     "text": [
      "X | Y\n",
      "--|--\n",
      "e | d\n",
      "d | e\n",
      "c | b\n",
      "b | c\n",
      "X | Y\n",
      "--|--\n",
      "f | e\n",
      "f | d\n",
      "d | f\n",
      "e | f\n"
     ]
    }
   ],
   "source": [
    "from pyDatalog import pyDatalog\n",
    "\n",
    "pyDatalog.create_terms('father, brother, cousin, grandson, descendent, X, Y, Z, Z1, Z2')\n",
    "\n",
    "# define the facts\n",
    "+father('a', 'b')\n",
    "+father('a', 'c')\n",
    "+father('b', 'd')\n",
    "+father('b', 'e')\n",
    "+father('c', 'f')\n",
    "\n",
    "# define the brother predicate\n",
    "brother(X, Y) <= (father(Z, X) & father(Z, Y) & (X != Y))\n",
    "\n",
    "# define the cousin predicate\n",
    "cousin(X, Y) <= (father(Z1, X) & father(Z2, Y) & brother(Z1, Z2))\n",
    "\n",
    "# define the grandson predicate\n",
    "grandson(X, Y) <= (father(Y, Z) & father(Z, X))\n",
    "\n",
    "# define the descendent predicate\n",
    "descendent(X, Y) <= (father(Y, X))\n",
    "descendent(X, Y) <= (father(Z, X) & descendent(Z, Y))\n",
    "\n",
    "print(brother(X, Y))\n",
    "\n",
    "print(cousin(X, Y))\n"
   ]
  },
  {
   "cell_type": "code",
   "execution_count": 1,
   "id": "88f4aa4d",
   "metadata": {},
   "outputs": [
    {
     "name": "stdout",
     "output_type": "stream",
     "text": [
      "x + y\n"
     ]
    }
   ],
   "source": [
    "from sympy import *\n",
    "x, y= symbols('x y')\n",
    "expr = (x+x*y/x)\n",
    "smpl= simplify(expr)\n",
    "print(smpl)"
   ]
  },
  {
   "cell_type": "code",
   "execution_count": 2,
   "id": "6c16d66d",
   "metadata": {},
   "outputs": [
    {
     "name": "stdout",
     "output_type": "stream",
     "text": [
      "{-1, 1, -I, I}\n"
     ]
    }
   ],
   "source": [
    "from sympy import *\n",
    "x = symbols(\"x\")\n",
    "sol = solveset(x**4-1,x)\n",
    "print(sol)"
   ]
  },
  {
   "cell_type": "code",
   "execution_count": 11,
   "id": "8f431d95",
   "metadata": {},
   "outputs": [
    {
     "ename": "ModuleNotFoundError",
     "evalue": "No module named 'mp'",
     "output_type": "error",
     "traceback": [
      "\u001b[1;31m---------------------------------------------------------------------------\u001b[0m",
      "\u001b[1;31mModuleNotFoundError\u001b[0m                       Traceback (most recent call last)",
      "Cell \u001b[1;32mIn[11], line 2\u001b[0m\n\u001b[0;32m      1\u001b[0m \u001b[38;5;28;01mfrom\u001b[39;00m \u001b[38;5;21;01msympy\u001b[39;00m \u001b[38;5;28;01mimport\u001b[39;00m \u001b[38;5;241m*\u001b[39m\n\u001b[1;32m----> 2\u001b[0m \u001b[38;5;28;01mimport\u001b[39;00m \u001b[38;5;21;01mmp\u001b[39;00m\n\u001b[0;32m      3\u001b[0m mp\u001b[38;5;241m.\u001b[39mdps \u001b[38;5;241m=\u001b[39m \u001b[38;5;241m100\u001b[39m\n\u001b[0;32m      4\u001b[0m sqrt(\u001b[38;5;241m2\u001b[39m)\u001b[38;5;241m.\u001b[39mevalf()\n",
      "\u001b[1;31mModuleNotFoundError\u001b[0m: No module named 'mp'"
     ]
    }
   ],
   "source": [
    "from sympy import *\n",
    "mp.dps = 100\n",
    "sqrt(2).evalf()"
   ]
  },
  {
   "cell_type": "code",
   "execution_count": 15,
   "id": "7bfb0fd4",
   "metadata": {},
   "outputs": [
    {
     "name": "stdout",
     "output_type": "stream",
     "text": [
      "5/6\n"
     ]
    }
   ],
   "source": [
    "from sympy import *\n",
    "cal = Rational(1,2) + Rational(1,3)\n",
    "print(cal)"
   ]
  },
  {
   "cell_type": "code",
   "execution_count": 17,
   "id": "27a25e3e",
   "metadata": {},
   "outputs": [
    {
     "name": "stdout",
     "output_type": "stream",
     "text": [
      "x**6 + 6*x**5*y + 15*x**4*y**2 + 20*x**3*y**3 + 15*x**2*y**4 + 6*x*y**5 + y**6\n"
     ]
    }
   ],
   "source": [
    "from sympy import *\n",
    "cal = expand((x+y)**6)\n",
    "print(cal)"
   ]
  },
  {
   "cell_type": "code",
   "execution_count": 18,
   "id": "953d451b",
   "metadata": {},
   "outputs": [
    {
     "name": "stdout",
     "output_type": "stream",
     "text": [
      "tan(x)\n"
     ]
    }
   ],
   "source": [
    "from sympy import *\n",
    "cal = simplify(sin(x)/cos(x))\n",
    "print(cal)"
   ]
  },
  {
   "cell_type": "code",
   "execution_count": 21,
   "id": "db4bc2ef",
   "metadata": {},
   "outputs": [
    {
     "data": {
      "text/latex": [
       "$\\displaystyle - n x^{4} + \\sin{\\left(x \\right)}$"
      ],
      "text/plain": [
       "-n*x**4 + sin(x)"
      ]
     },
     "execution_count": 21,
     "metadata": {},
     "output_type": "execute_result"
    }
   ],
   "source": [
    "from sympy import *\n",
    "x , n= symbols('x n')\n",
    "sin(x)- x*(x**3)*n"
   ]
  },
  {
   "cell_type": "code",
   "execution_count": 24,
   "id": "3ff0ce05",
   "metadata": {},
   "outputs": [
    {
     "name": "stdout",
     "output_type": "stream",
     "text": [
      "a**2 - b**2\n"
     ]
    }
   ],
   "source": [
    "from sympy import *\n",
    "a,b = symbols('a b')\n",
    "expr = a**2- a*b + a*b - b**2\n",
    "cal = simplify(expr)\n",
    "print(cal)"
   ]
  },
  {
   "cell_type": "code",
   "execution_count": 25,
   "id": "1b5aec1e",
   "metadata": {},
   "outputs": [
    {
     "data": {
      "text/latex": [
       "$\\displaystyle \\frac{a^{3}}{3}$"
      ],
      "text/plain": [
       "a**3/3"
      ]
     },
     "execution_count": 25,
     "metadata": {},
     "output_type": "execute_result"
    }
   ],
   "source": [
    "from sympy import *\n",
    "a = symbols('a')\n",
    "integrate(a**2,a)"
   ]
  },
  {
   "cell_type": "code",
   "execution_count": 28,
   "id": "cc6b48cd",
   "metadata": {},
   "outputs": [
    {
     "name": "stdout",
     "output_type": "stream",
     "text": [
      "2.0*x + y**2\n"
     ]
    }
   ],
   "source": [
    "from sympy import *\n",
    "x,y = symbols('x y')\n",
    "expr = 2*x+y**2\n",
    "cal = expr.evalf()\n",
    "print(cal)"
   ]
  },
  {
   "cell_type": "code",
   "execution_count": 29,
   "id": "75f9717e",
   "metadata": {},
   "outputs": [
    {
     "data": {
      "text/latex": [
       "$\\displaystyle \\frac{3}{10}$"
      ],
      "text/plain": [
       "3/10"
      ]
     },
     "execution_count": 29,
     "metadata": {},
     "output_type": "execute_result"
    }
   ],
   "source": [
    "from sympy import *\n",
    "Rational(1,10)+Rational(1,5)"
   ]
  },
  {
   "cell_type": "code",
   "execution_count": 31,
   "id": "42d9634d",
   "metadata": {},
   "outputs": [
    {
     "data": {
      "text/latex": [
       "$\\displaystyle \\cos{\\left(x \\right)}$"
      ],
      "text/plain": [
       "cos(x)"
      ]
     },
     "execution_count": 31,
     "metadata": {},
     "output_type": "execute_result"
    }
   ],
   "source": [
    "from sympy import *\n",
    "x = symbols(\"x\")\n",
    "diff(sin(x),x)"
   ]
  },
  {
   "cell_type": "code",
   "execution_count": 37,
   "id": "ebcf9b8f",
   "metadata": {},
   "outputs": [
    {
     "ename": "SyntaxError",
     "evalue": "invalid decimal literal (2371421838.py, line 3)",
     "output_type": "error",
     "traceback": [
      "\u001b[1;36m  Cell \u001b[1;32mIn[37], line 3\u001b[1;36m\u001b[0m\n\u001b[1;33m    A = Matrix([[3x, 7y, -12z], [4x, -2y, 5z]])\u001b[0m\n\u001b[1;37m                 ^\u001b[0m\n\u001b[1;31mSyntaxError\u001b[0m\u001b[1;31m:\u001b[0m invalid decimal literal\n"
     ]
    }
   ],
   "source": [
    "from sympy import Matrix\n",
    "x,y,z = Symbols('x y z')\n",
    "A = Matrix([[3x, 7y, -12z], [4x, -2y, 5z]])\n",
    "B = Matrix([0, 0, 0])\n",
    "cal = solve(x,y,z)\n",
    "print(cal)"
   ]
  },
  {
   "cell_type": "code",
   "execution_count": 39,
   "id": "0b6ab0b5",
   "metadata": {},
   "outputs": [
    {
     "name": "stdout",
     "output_type": "stream",
     "text": [
      "{x: -3, y: 1}\n"
     ]
    }
   ],
   "source": [
    "from sympy import *\n",
    "x,y = symbols('x y')\n",
    "eq1 = x+5*y-2\n",
    "eq2 = -3*x+6*y-15\n",
    "sol = solve((eq1,eq2),(x,y))\n",
    "print(sol)"
   ]
  },
  {
   "cell_type": "code",
   "execution_count": 40,
   "id": "1c787c9a",
   "metadata": {},
   "outputs": [
    {
     "name": "stdout",
     "output_type": "stream",
     "text": [
      "[-1/2 + sqrt(5)/2, 1/2 - sqrt(5)/2, 1/2 + sqrt(5)/2, -sqrt(5)/2 - 1/2]\n"
     ]
    }
   ],
   "source": [
    "from sympy import*\n",
    "x = symbols('x')\n",
    "expr= x**4-3*(x**2)+1\n",
    "cal = solve(expr,x)\n",
    "print(cal)"
   ]
  },
  {
   "cell_type": "code",
   "execution_count": 43,
   "id": "a2299c13",
   "metadata": {},
   "outputs": [
    {
     "name": "stdout",
     "output_type": "stream",
     "text": [
      "even number: 2\n",
      "even number: 4\n",
      "even number: 6\n",
      "even number: 8\n",
      "even number: 10\n"
     ]
    }
   ],
   "source": [
    "import threading\n",
    "def print_even(n):\n",
    "    for i in range(2,n+1,2):\n",
    "        print(\"even number:\",i)\n",
    "def print_divisible(n):\n",
    "    for i in range(1,n+1):\n",
    "        if i%3==0 and i%5==0:\n",
    "            print(\"divisible numbers:\",i)\n",
    "thread1 = threading.Thread(target=print_even,args=(10,))\n",
    "thread2 = threading.Thread(target=print_divisible,args=(10,))\n",
    "thread1.start()\n",
    "thread2.start()\n",
    "thread1.join()\n",
    "thread2.join()"
   ]
  },
  {
   "cell_type": "code",
   "execution_count": 44,
   "id": "f8ea05d4",
   "metadata": {},
   "outputs": [
    {
     "name": "stdout",
     "output_type": "stream",
     "text": [
      "[(101, 'The Shawshank Redemption', 'Drama', 'English', 10.230000000000002), (102, 'The Godfather', 'Crime', 'English', 10.12), (103, 'The Dark Knight', 'Action', 'English', 9.9), (104, '12 Angry Men', 'Drama', 'English', 9.790000000000001), (105, \"Schindler's List\", 'Drama', 'English', 9.790000000000001)]\n",
      "[(101, 'The Shawshank Redemption', 'Drama', 'English', 10.230000000000002), (103, 'The Dark Knight', 'Action', 'English', 9.9), (104, '12 Angry Men', 'Drama', 'English', 9.790000000000001), (105, \"Schindler's List\", 'Drama', 'English', 9.790000000000001)]\n",
      "[(101, 'The Shawshank Redemption', 'Drama', 'English', 10.230000000000002), (103, 'The Dark Knight', 'Action', 'English', 9.9), (104, '12 Angry Men', 'Drama', 'English', 9.790000000000001), (105, \"Schindler's List\", 'Drama', 'English', 9.790000000000001)]\n"
     ]
    }
   ],
   "source": [
    "import sqlite3\n",
    "\n",
    "# Create a connection to the database\n",
    "conn = sqlite3.connect('movies.db')\n",
    "\n",
    "# Create a cursor object to execute SQL commands\n",
    "cur = conn.cursor()\n",
    "\n",
    "# Create the movie table\n",
    "cur.execute('CREATE TABLE movie (Movie_ID INT, Movie_Name VARCHAR(255), Genre VARCHAR(255), Language VARCHAR(255), Rating DECIMAL(3,1))')\n",
    "\n",
    "# Insert some data into the movie table\n",
    "cur.execute(\"INSERT INTO movie VALUES (101, 'The Shawshank Redemption', 'Drama', 'English', 9.3)\")\n",
    "cur.execute(\"INSERT INTO movie VALUES (102, 'The Godfather', 'Crime', 'English', 9.2)\")\n",
    "cur.execute(\"INSERT INTO movie VALUES (103, 'The Dark Knight', 'Action', 'English', 9.0)\")\n",
    "cur.execute(\"INSERT INTO movie VALUES (104, '12 Angry Men', 'Drama', 'English', 8.9)\")\n",
    "cur.execute(\"INSERT INTO movie VALUES (105, 'Schindler''s List', 'Drama', 'English', 8.9)\")\n",
    "\n",
    "# Update the movies rating by 10% and display it\n",
    "cur.execute(\"UPDATE movie SET Rating = Rating * 1.1\")\n",
    "cur.execute(\"SELECT * FROM movie\")\n",
    "print(cur.fetchall())\n",
    "\n",
    "# Delete the movies with movie_id 102\n",
    "cur.execute(\"DELETE FROM movie WHERE Movie_ID = 102\")\n",
    "cur.execute(\"SELECT * FROM movie\")\n",
    "print(cur.fetchall())\n",
    "\n",
    "# Select movies whose rating is more than 3\n",
    "cur.execute(\"SELECT * FROM movie WHERE Rating > 3\")\n",
    "print(cur.fetchall())\n",
    "\n",
    "# Close the cursor and the connection\n",
    "cur.close()\n",
    "conn.close()\n"
   ]
  },
  {
   "cell_type": "code",
   "execution_count": 45,
   "id": "023f6d82",
   "metadata": {},
   "outputs": [
    {
     "name": "stdout",
     "output_type": "stream",
     "text": [
      "[[30, 40, 50, 55, 45], [50, 60, 65, 45, 55]]\n"
     ]
    }
   ],
   "source": [
    "# Define the list of student marks\n",
    "marks = [\n",
    "    [70, 80, 90, 85, 75],   # Student 1\n",
    "    [60, 55, 70, 65, 80],   # Student 2\n",
    "    [30, 40, 50, 55, 45],   # Student 3\n",
    "    [80, 70, 60, 75, 65],   # Student 4\n",
    "    [75, 80, 85, 90, 95],   # Student 5\n",
    "    [50, 60, 65, 45, 55],   # Student 6\n",
    "]\n",
    "\n",
    "# Define a function to check if a student has failed in one or more subjects\n",
    "def has_failed(marks):\n",
    "    for mark in marks:\n",
    "        if mark < 50:\n",
    "            return True\n",
    "    return False\n",
    "\n",
    "# Use the filter function to find the students who failed in one or more subjects\n",
    "failed_students = list(filter(has_failed, marks))\n",
    "\n",
    "# Print the list of failed students\n",
    "print(failed_students)\n"
   ]
  },
  {
   "cell_type": "code",
   "execution_count": 46,
   "id": "a5d5259d",
   "metadata": {},
   "outputs": [
    {
     "ename": "SyntaxError",
     "evalue": "invalid syntax (227418708.py, line 1)",
     "output_type": "error",
     "traceback": [
      "\u001b[1;36m  Cell \u001b[1;32mIn[46], line 1\u001b[1;36m\u001b[0m\n\u001b[1;33m    git clone https://github.com/rishabh-xv/PPS-Lab\u001b[0m\n\u001b[1;37m        ^\u001b[0m\n\u001b[1;31mSyntaxError\u001b[0m\u001b[1;31m:\u001b[0m invalid syntax\n"
     ]
    }
   ],
   "source": [
    "git clone https://github.com/rishabh-xv/PPS-Lab\n",
    "    "
   ]
  },
  {
   "cell_type": "code",
   "execution_count": 47,
   "id": "2a65867f",
   "metadata": {},
   "outputs": [
    {
     "name": "stdout",
     "output_type": "stream",
     "text": [
      "Note: you may need to restart the kernel to use updated packages.\n"
     ]
    },
    {
     "name": "stderr",
     "output_type": "stream",
     "text": [
      "ERROR: Could not find a version that satisfies the requirement git (from versions: none)\n",
      "ERROR: No matching distribution found for git\n"
     ]
    }
   ],
   "source": [
    "pip install git"
   ]
  },
  {
   "cell_type": "code",
   "execution_count": null,
   "id": "f6c1a747",
   "metadata": {},
   "outputs": [],
   "source": []
  }
 ],
 "metadata": {
  "kernelspec": {
   "display_name": "Python 3 (ipykernel)",
   "language": "python",
   "name": "python3"
  },
  "language_info": {
   "codemirror_mode": {
    "name": "ipython",
    "version": 3
   },
   "file_extension": ".py",
   "mimetype": "text/x-python",
   "name": "python",
   "nbconvert_exporter": "python",
   "pygments_lexer": "ipython3",
   "version": "3.10.9"
  }
 },
 "nbformat": 4,
 "nbformat_minor": 5
}
