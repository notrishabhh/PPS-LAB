{
 "cells": [
  {
   "cell_type": "code",
   "execution_count": 1,
   "id": "a78abf4f",
   "metadata": {},
   "outputs": [
    {
     "name": "stdout",
     "output_type": "stream",
     "text": [
      "Simplified expression:  X + Y\n"
     ]
    }
   ],
   "source": [
    "import sympy as sp\n",
    "\n",
    "X, Y = sp.symbols('X Y')\n",
    "expr = X + X * Y / X\n",
    "simplified_expr = sp.simplify(expr)\n",
    "print(\"Simplified expression: \", simplified_expr)\n",
    "\n"
   ]
  },
  {
   "cell_type": "code",
   "execution_count": 2,
   "id": "4577823d",
   "metadata": {},
   "outputs": [
    {
     "name": "stdout",
     "output_type": "stream",
     "text": [
      "A^2:  Matrix([[7, 10], [15, 22]])\n"
     ]
    }
   ],
   "source": [
    "import sympy as sp\n",
    "\n",
    "A = sp.Matrix([[1, 2], [3, 4]])\n",
    "A_squared = A ** 2\n",
    "print(\"A^2: \", A_squared)\n"
   ]
  },
  {
   "cell_type": "code",
   "execution_count": 3,
   "id": "f71bdbfe",
   "metadata": {},
   "outputs": [
    {
     "name": "stdout",
     "output_type": "stream",
     "text": [
      "Solutions:  [-1, 1, -I, I]\n"
     ]
    }
   ],
   "source": [
    "import sympy as sp\n",
    "\n",
    "x = sp.Symbol('x')\n",
    "expr = x ** 4 - 1\n",
    "solutions = sp.solve(expr, x)\n",
    "print(\"Solutions: \", solutions)\n"
   ]
  },
  {
   "cell_type": "code",
   "execution_count": 6,
   "id": "101ac960",
   "metadata": {},
   "outputs": [
    {
     "name": "stdout",
     "output_type": "stream",
     "text": [
      "[]\n",
      "[]\n",
      "[]\n"
     ]
    }
   ],
   "source": [
    "from pyDatalog import pyDatalog\n",
    "\n",
    "# Create facts for the given data\n",
    "pyDatalog.create_atoms('student, name, mark')\n",
    "+ student('Ram', 90)\n",
    "+ student('Raju', 45)\n",
    "+ student('Priya', 85)\n",
    "+ student('Carol', 70)\n",
    "+ student('Shyam', 80)\n",
    "\n",
    "# Define a rule for passing marks\n",
    "pyDatalog.create_atoms('passm')\n",
    "passm(mark) <= (mark > 50)\n",
    "\n",
    "# Define rules for grade letters\n",
    "pyDatalog.create_atoms('grade')\n",
    "grade(mark, 'A') <= (mark >= 90)\n",
    "grade(mark, 'B') <= ((mark >= 70) & (mark < 90))\n",
    "grade(mark, 'C') <= ((mark >= 50) & (mark < 70))\n",
    "grade(mark, 'F') <= (mark < 50)\n",
    "\n",
    "# Query for printing all students' name and marks\n",
    "print(student(name, mark))\n",
    "\n",
    "# Query for finding who scored 80 marks\n",
    "print(student(name, 80))\n",
    "\n",
    "# Query for finding Priya's mark\n",
    "print(student('Priya', mark))\n",
    "\n",
    "# Query for finding all students who failed\n",
    "#print(student(name, mark).where(~passm(mark)))\n",
    "\n",
    "# Query for finding the grade letter of a given mark\n",
    "#print(grade(70, grade_letter))\n"
   ]
  },
  {
   "cell_type": "code",
   "execution_count": 7,
   "id": "2040760a",
   "metadata": {},
   "outputs": [
    {
     "name": "stdout",
     "output_type": "stream",
     "text": [
      "Enter the value of n: 9\n",
      "2\n",
      "4\n",
      "6\n",
      "8\n",
      "Done!\n"
     ]
    }
   ],
   "source": [
    "import threading\n",
    "\n",
    "def print_even(n):\n",
    "    for i in range(2, n+1, 2):\n",
    "        print(i)\n",
    "\n",
    "def print_divisible_by_3_and_5(n):\n",
    "    for i in range(1, n+1):\n",
    "        if i % 3 == 0 and i % 5 == 0:\n",
    "            print(i)\n",
    "\n",
    "n = int(input(\"Enter the value of n: \"))\n",
    "t1 = threading.Thread(target=print_even, args=(n,))\n",
    "t2 = threading.Thread(target=print_divisible_by_3_and_5, args=(n,))\n",
    "\n",
    "t1.start()\n",
    "t2.start()\n",
    "\n",
    "t1.join()\n",
    "t2.join()\n",
    "\n",
    "print(\"Done!\")\n"
   ]
  },
  {
   "cell_type": "code",
   "execution_count": 8,
   "id": "2a720459",
   "metadata": {},
   "outputs": [
    {
     "name": "stdout",
     "output_type": "stream",
     "text": [
      "Enter a number between 0 and 1000: 500\n",
      "The sum of the digits in the number is: 5\n"
     ]
    }
   ],
   "source": [
    "while True:\n",
    "    num = int(input(\"Enter a number between 0 and 1000: \"))\n",
    "    if num >= 0 and num <= 1000:\n",
    "        break\n",
    "    else:\n",
    "        print(\"Invalid number. Please enter a number between 0 and 1000.\")\n",
    "\n",
    "sum = 0\n",
    "for digit in str(num):\n",
    "    sum += int(digit)\n",
    "\n",
    "print(\"The sum of the digits in the number is:\", sum)\n"
   ]
  },
  {
   "cell_type": "code",
   "execution_count": 9,
   "id": "ae16078a",
   "metadata": {},
   "outputs": [
    {
     "name": "stdout",
     "output_type": "stream",
     "text": [
      "[(101, 'The Godfather', 'Crime, Drama', 'English', 10.12), (103, 'The Dark Knight', 'Action, Crime, Drama', 'English', 9.9), (104, 'Pulp Fiction', 'Crime, Drama', 'English', 9.790000000000001), (105, 'Forrest Gump', 'Drama, Romance', 'English', 9.680000000000001)]\n"
     ]
    }
   ],
   "source": [
    "import sqlite3\n",
    "\n",
    "# Create a connection to the database\n",
    "conn = sqlite3.connect('movies.db')\n",
    "\n",
    "# Create a cursor object to execute queries\n",
    "c = conn.cursor()\n",
    "\n",
    "# Create the movie table if it doesn't exist\n",
    "c.execute('''CREATE TABLE IF NOT EXISTS movie (\n",
    "                Movie_ID INTEGER PRIMARY KEY,\n",
    "                Movie_Name TEXT,\n",
    "                Genre TEXT,\n",
    "                Language TEXT,\n",
    "                Rating REAL\n",
    "            )''')\n",
    "\n",
    "# Insert sample data into the movie table\n",
    "c.execute(\"INSERT INTO movie VALUES (101, 'The Godfather', 'Crime, Drama', 'English', 9.2)\")\n",
    "c.execute(\"INSERT INTO movie VALUES (102, 'The Shawshank Redemption', 'Drama', 'English', 9.3)\")\n",
    "c.execute(\"INSERT INTO movie VALUES (103, 'The Dark Knight', 'Action, Crime, Drama', 'English', 9.0)\")\n",
    "c.execute(\"INSERT INTO movie VALUES (104, 'Pulp Fiction', 'Crime, Drama', 'English', 8.9)\")\n",
    "c.execute(\"INSERT INTO movie VALUES (105, 'Forrest Gump', 'Drama, Romance', 'English', 8.8)\")\n",
    "\n",
    "# Update movie ratings by 10%\n",
    "c.execute(\"UPDATE movie SET Rating = Rating * 1.1\")\n",
    "\n",
    "# Delete movie with movie_id 102\n",
    "c.execute(\"DELETE FROM movie WHERE Movie_ID = 102\")\n",
    "\n",
    "# Select movies whose rating is more than 3\n",
    "c.execute(\"SELECT * FROM movie WHERE Rating > 3\")\n",
    "\n",
    "# Print the result of the query\n",
    "print(c.fetchall())\n",
    "\n",
    "# Commit changes and close the connection\n",
    "conn.commit()\n",
    "conn.close()\n"
   ]
  },
  {
   "cell_type": "code",
   "execution_count": 10,
   "id": "5c0633cd",
   "metadata": {},
   "outputs": [
    {
     "name": "stdout",
     "output_type": "stream",
     "text": [
      "List of students who failed in one or more subjects:\n",
      "Raju\n"
     ]
    }
   ],
   "source": [
    "# marks of the students in 5 different subjects\n",
    "marks = [\n",
    "    ['Ram', 90, 75, 80, 60, 85],\n",
    "    ['Raju', 45, 50, 30, 55, 40],\n",
    "    ['Priya', 85, 90, 75, 80, 95],\n",
    "    ['Carol', 70, 80, 65, 55, 75],\n",
    "    ['Shyam', 80, 70, 75, 85, 90]\n",
    "]\n",
    "\n",
    "# function to check if a student failed in one or more subjects\n",
    "def has_failed(m):\n",
    "    return any(mark < 50 for mark in m[1:])\n",
    "\n",
    "# filter the students who failed in one or more subjects\n",
    "failed_students = list(filter(has_failed, marks))\n",
    "\n",
    "# print the list of failed students\n",
    "print(\"List of students who failed in one or more subjects:\")\n",
    "for student in failed_students:\n",
    "    print(student[0])\n"
   ]
  },
  {
   "cell_type": "code",
   "execution_count": 11,
   "id": "a43ceac5",
   "metadata": {},
   "outputs": [
    {
     "name": "stdout",
     "output_type": "stream",
     "text": [
      "Manager Name: John, Department: Marketing, Salary: 50000\n",
      "Executive Manager Name: Alice, Department: Finance, Salary: 80000\n"
     ]
    }
   ],
   "source": [
    "class Employee:\n",
    "    def __init__(self, name, salary):\n",
    "        self.name = name\n",
    "        self.salary = salary\n",
    "\n",
    "class Manager(Employee):\n",
    "    def __init__(self, name, salary, department):\n",
    "        super().__init__(name, salary)\n",
    "        self.department = department\n",
    "    \n",
    "    def __str__(self):\n",
    "        return f\"Manager Name: {self.name}, Department: {self.department}, Salary: {self.salary}\"\n",
    "        \n",
    "class Executive(Manager):\n",
    "    def __str__(self):\n",
    "        return f\"Executive {super().__str__()}\"\n",
    "        \n",
    "# Test Program\n",
    "manager1 = Manager(\"John\", 50000, \"Marketing\")\n",
    "print(manager1)\n",
    "\n",
    "executive1 = Executive(\"Alice\", 80000, \"Finance\")\n",
    "print(executive1)\n"
   ]
  },
  {
   "cell_type": "code",
   "execution_count": 17,
   "id": "0e4b761d",
   "metadata": {},
   "outputs": [
    {
     "name": "stdout",
     "output_type": "stream",
     "text": [
      "Requirement already satisfied: pyDatalog in c:\\users\\xrish\\anaconda3\\lib\\site-packages (0.17.4)\n",
      "Note: you may need to restart the kernel to use updated packages.\n"
     ]
    }
   ],
   "source": [
    "pip install pyDatalog\n"
   ]
  },
  {
   "cell_type": "code",
   "execution_count": 1,
   "id": "03bc6093",
   "metadata": {},
   "outputs": [
    {
     "name": "stdout",
     "output_type": "stream",
     "text": [
      "X | Y\n",
      "--|--\n",
      "e | d\n",
      "d | e\n",
      "c | b\n",
      "b | c\n",
      "X | Y\n",
      "--|--\n",
      "f | e\n",
      "f | d\n",
      "d | f\n",
      "e | f\n"
     ]
    }
   ],
   "source": [
    "from pyDatalog import pyDatalog\n",
    "\n",
    "pyDatalog.create_terms('father, brother, cousin, grandson, descendent, X, Y, Z, Z1, Z2')\n",
    "\n",
    "# define the facts\n",
    "+father('a', 'b')\n",
    "+father('a', 'c')\n",
    "+father('b', 'd')\n",
    "+father('b', 'e')\n",
    "+father('c', 'f')\n",
    "\n",
    "# define the brother predicate\n",
    "brother(X, Y) <= (father(Z, X) & father(Z, Y) & (X != Y))\n",
    "\n",
    "# define the cousin predicate\n",
    "cousin(X, Y) <= (father(Z1, X) & father(Z2, Y) & brother(Z1, Z2))\n",
    "\n",
    "# define the grandson predicate\n",
    "grandson(X, Y) <= (father(Y, Z) & father(Z, X))\n",
    "\n",
    "# define the descendent predicate\n",
    "descendent(X, Y) <= (father(Y, X))\n",
    "descendent(X, Y) <= (father(Z, X) & descendent(Z, Y))\n",
    "\n",
    "print(brother(X, Y))\n",
    "\n",
    "print(cousin(X, Y))\n"
   ]
  },
  {
   "cell_type": "code",
   "execution_count": 2,
   "id": "7717931f",
   "metadata": {},
   "outputs": [
    {
     "name": "stdout",
     "output_type": "stream",
     "text": [
      "The tuition in ten years will be: $16288.95\n",
      "The total cost of four years' tuition starting ten years from now will be: $70207.39\n"
     ]
    }
   ],
   "source": [
    "tuition = 10000\n",
    "rate = 0.05\n",
    "\n",
    "# compute tuition in ten years\n",
    "for i in range(10):\n",
    "    tuition += tuition * rate\n",
    "\n",
    "print(f\"The tuition in ten years will be: ${tuition:.2f}\")\n",
    "\n",
    "# compute total cost of four years' tuition starting in ten years\n",
    "total_cost = 0\n",
    "for i in range(10, 14):\n",
    "    year_cost = tuition * (1 + rate)**(i - 10)\n",
    "    total_cost += year_cost\n",
    "\n",
    "print(f\"The total cost of four years' tuition starting ten years from now will be: ${total_cost:.2f}\")\n"
   ]
  },
  {
   "cell_type": "code",
   "execution_count": 3,
   "id": "5d6d64f1",
   "metadata": {},
   "outputs": [
    {
     "name": "stdout",
     "output_type": "stream",
     "text": [
      "Customers living nearby with pincode '10001':  ['John', 'Mary']\n",
      "Customers living nearby with pincode '10001' and name 'John':  ['Mary']\n"
     ]
    }
   ],
   "source": [
    "class Customer:\n",
    "    def __init__(self, name, address):\n",
    "        self.name = name\n",
    "        self.address = address\n",
    "        \n",
    "class Bank:\n",
    "    def __init__(self, customers):\n",
    "        self.customers = customers\n",
    "        \n",
    "    def find_nearby_customers(self, pincode, name=None):\n",
    "        nearby_customers = []\n",
    "        for customer in self.customers:\n",
    "            if customer.address['pincode'] == pincode:\n",
    "                if name is None:\n",
    "                    nearby_customers.append(customer.name)\n",
    "                elif customer.name != name:\n",
    "                    nearby_customers.append(customer.name)\n",
    "        return nearby_customers\n",
    "\n",
    "# Example usage\n",
    "customers = [Customer('John', {'street': '123 Main St', 'city': 'New York', 'state': 'NY', 'pincode': '10001'}), \n",
    "             Customer('Mary', {'street': '456 Oak St', 'city': 'New York', 'state': 'NY', 'pincode': '10001'}),\n",
    "             Customer('Bob', {'street': '789 Elm St', 'city': 'Los Angeles', 'state': 'CA', 'pincode': '90001'})]\n",
    "             \n",
    "bank = Bank(customers)\n",
    "\n",
    "# Find nearby customers with pincode '10001'\n",
    "nearby_customers = bank.find_nearby_customers('10001')\n",
    "print(\"Customers living nearby with pincode '10001': \", nearby_customers)\n",
    "\n",
    "# Find nearby customers with pincode '10001' and name 'John'\n",
    "nearby_customers = bank.find_nearby_customers('10001', 'John')\n",
    "print(\"Customers living nearby with pincode '10001' and name 'John': \", nearby_customers)\n"
   ]
  },
  {
   "cell_type": "code",
   "execution_count": 5,
   "id": "6eb165ec",
   "metadata": {},
   "outputs": [],
   "source": [
    "import sqlite3\n",
    "\n",
    "# create a connection to the database\n",
    "conn = sqlite3.connect('employees.db')\n",
    "\n",
    "# create a cursor object\n",
    "c = conn.cursor()\n",
    "\n",
    "# create the employees table\n",
    "c.execute('''CREATE TABLE employees (\n",
    "                employee_id INTEGER PRIMARY KEY,\n",
    "                first_name TEXT,\n",
    "                last_name TEXT,\n",
    "                email TEXT,\n",
    "                phone_number TEXT,\n",
    "                hire_date TEXT,\n",
    "                job_id TEXT,\n",
    "                salary REAL,\n",
    "                commission REAL,\n",
    "                manager_id INTEGER,\n",
    "                department_id INTEGER\n",
    "            )''')\n",
    "\n",
    "# insert values into the employees table\n",
    "c.execute('''INSERT INTO employees (employee_id, first_name, last_name, email, phone_number, hire_date, job_id, salary, commission, manager_id, department_id)\n",
    "                VALUES \n",
    "                (1, 'John', 'Doe', 'johndoe@example.com', '123-456-7890', '2022-05-20', 'IT_PROG', 50000, NULL, 2, 10),\n",
    "                (2, 'Jane', 'Smith', 'janesmith@example.com', '234-567-8901', '2022-05-20', 'IT_PROG', 60000, NULL, 2, 20),\n",
    "                (3, 'Bob', 'Johnson', 'bobjohnson@example.com', '345-678-9012', '2022-05-20', 'SA_MAN', 75000, 15000, 2, 30)''')\n",
    "\n",
    "# commit the changes to the database\n",
    "conn.commit()\n",
    "\n",
    "# close the connection to the database\n",
    "conn.close()\n"
   ]
  },
  {
   "cell_type": "code",
   "execution_count": 6,
   "id": "6d10103c",
   "metadata": {},
   "outputs": [
    {
     "name": "stdout",
     "output_type": "stream",
     "text": [
      "('John', 'Doe')\n",
      "('Jane', 'Smith')\n",
      "('Bob', 'Johnson')\n"
     ]
    }
   ],
   "source": [
    "import sqlite3\n",
    "\n",
    "# create a connection to the database\n",
    "conn = sqlite3.connect('employees.db')\n",
    "\n",
    "# create a cursor object\n",
    "c = conn.cursor()\n",
    "\n",
    "# execute the query\n",
    "c.execute('''SELECT first_name, last_name\n",
    "               FROM employees\n",
    "               WHERE salary > 25000''')\n",
    "\n",
    "# fetch the results\n",
    "results = c.fetchall()\n",
    "\n",
    "# print the results\n",
    "for result in results:\n",
    "  print(result)\n",
    "\n",
    "# close the connection to the database\n",
    "conn.close()\n"
   ]
  },
  {
   "cell_type": "code",
   "execution_count": 7,
   "id": "88d1ffe8",
   "metadata": {},
   "outputs": [
    {
     "name": "stdout",
     "output_type": "stream",
     "text": [
      "topic1: 2\n",
      "topic2: 2\n"
     ]
    }
   ],
   "source": [
    "import functools\n",
    "\n",
    "# Define the two trending topics\n",
    "topics = [\"topic1\", \"topic2\"]\n",
    "\n",
    "# Get the tweets\n",
    "tweets = [\n",
    "  \"This is a tweet about topic1\",\n",
    "  \"This is another tweet about topic1\",\n",
    "  \"This is a tweet about topic2\",\n",
    "  \"This is another tweet about topic2\",\n",
    "]\n",
    "\n",
    "# Count the number of tweets that contain each topic\n",
    "tweet_counts = {topic: len(list(filter(lambda tweet: topic in tweet, tweets))) for topic in topics}\n",
    "\n",
    "# Print the results\n",
    "for topic, count in tweet_counts.items():\n",
    "  print(f\"{topic}: {count}\")\n"
   ]
  },
  {
   "cell_type": "code",
   "execution_count": 9,
   "id": "09511e1f",
   "metadata": {},
   "outputs": [],
   "source": [
    "from tkinter import *\n",
    "\n",
    "root = Tk(className='registration form')\n",
    "\n",
    "first_name=Label(root, text=\"Name\",bg=\"green\", fg=\"black\").grid(row=1)\n",
    "myTitle=Label(root, text=\"Form\",bg=\"green\",fg=\"black\")\n",
    "myTitle.grid(row=0,column=1)\n",
    "e=Entry(root, width=35, borderwidth=5)\n",
    "e.grid(row=1, column=1, padx=10, pady=10)\n",
    "\n",
    "course_name=Label(root, text=\"Course\",bg=\"green\",fg=\"black\").grid(row=2)\n",
    "f=Entry(root, width=35, borderwidth=5)\n",
    "f.grid(row=2, column=1, padx=10, pady=10)\n",
    "\n",
    "Semester_name=Label(root, text=\"Semester\",bg=\"green\",fg=\"black\").grid(row=3)\n",
    "g=Entry(root, width=35, borderwidth=5)\n",
    "g.grid(row=3, column=1, padx=10, pady=10)\n",
    "\n",
    "form_name=Label(root, text=\"Form No.\",bg=\"green\",fg=\"black\").grid(row=4)\n",
    "h=Entry(root, width=35, borderwidth=5)\n",
    "h.grid(row=4, column=1, padx=10, pady=10)\n",
    "\n",
    "contact_name=Label(root, text=\"Contact No.\",bg=\"green\",fg=\"black\").grid(row=5)\n",
    "i=Entry(root, width=35, borderwidth=5)\n",
    "i.grid(row=5, column=1, padx=10, pady=10)\n",
    "\n",
    "email_name=Label(root, text=\"Email id\",bg=\"green\",fg=\"black\").grid(row=6)\n",
    "j=Entry(root, width=35, borderwidth=5)\n",
    "j.grid(row=6, column=1, padx=10, pady=10)\n",
    "\n",
    "addr_name=Label(root, text=\"Address\",bg=\"green\",fg=\"black\").grid(row=7)\n",
    "k=Entry(root, width=35, borderwidth=5)\n",
    "k.grid(row=7, column=1, padx=10, pady=10)\n",
    "\n",
    "button_sub= Button(root, text=\"Submit\",bg=\"red\",fg=\"black\")\n",
    "button_sub.grid(row=8, column=1)\n",
    "\n",
    "root.configure(bg='Green')\n",
    "root.mainloop()"
   ]
  },
  {
   "cell_type": "code",
   "execution_count": 10,
   "id": "97833006",
   "metadata": {},
   "outputs": [],
   "source": [
    "from tkinter import *\n",
    "from tkinter import ttk\n",
    "window = Tk()\n",
    "window.title(\"Address Entry Form\")\n",
    "window.geometry(\"300x225\")\n",
    "window.configure(background=\"grey\");\n",
    "a = Label(window,text =\"First Name:\").grid(row=0,column=0)\n",
    "b = Label(window,text =\"Last Name:\").grid(row=1,column=0)\n",
    "c = Label(window,text =\"Address Line 1:\").grid(row=2,column=0)\n",
    "d = Label(window,text =\"Address Line 2:\").grid(row=3,column=0)\n",
    "e = Label(window,text =\"City:\").grid(row=4,column=0)\n",
    "f = Label(window,text =\"State\\Province:\").grid(row=5,column=0)\n",
    "g = Label(window,text =\"Postal Code:\").grid(row=6,column=0)\n",
    "h = Label(window,text =\"Country:\").grid(row=7,column=0)\n",
    "a1 = Entry(window,width=50).grid(row=0,column=1)\n",
    "b1 = Entry(window,width=50).grid(row=1,column=1)\n",
    "c1 = Entry(window,width=50).grid(row=2,column=1)\n",
    "d1 = Entry(window,width=50).grid(row=3,column=1)\n",
    "e1 = Entry(window,width=50).grid(row=4,column=1)\n",
    "f1 = Entry(window,width=50).grid(row=5,column=1)\n",
    "g1 = Entry(window,width=50).grid(row=6,column=1)\n",
    "h1 = Entry(window,width=50).grid(row=7,column=1)\n",
    "def clear_text():\n",
    "  a1.delete(0,END)\n",
    "  b1.delete(0,END)\n",
    "  c1.delete(0,END)\n",
    "  d1.delete(0,END)\n",
    "  e1.delete(0,END)\n",
    "  f1.delete(0,END)\n",
    "  g1.delete(0,END)\n",
    "  h1.delete(0,END)\n",
    "Sub = ttk.Button(window, text=\"Submit\").grid(row=8,column=0)\n",
    "Clr = ttk.Button(window, text=\"Clear\", command = clear_text).grid(row=8,column=1)\n",
    "window.mainloop()"
   ]
  },
  {
   "cell_type": "code",
   "execution_count": 11,
   "id": "a2c92158",
   "metadata": {},
   "outputs": [
    {
     "name": "stdout",
     "output_type": "stream",
     "text": [
      "Note: you may need to restart the kernel to use updated packages.\n"
     ]
    },
    {
     "name": "stderr",
     "output_type": "stream",
     "text": [
      "ERROR: Could not find a version that satisfies the requirement nbtconvert (from versions: none)\n",
      "ERROR: No matching distribution found for nbtconvert\n"
     ]
    }
   ],
   "source": [
    "pip install nbtconvert\n"
   ]
  },
  {
   "cell_type": "code",
   "execution_count": null,
   "id": "77b27237",
   "metadata": {},
   "outputs": [],
   "source": []
  }
 ],
 "metadata": {
  "kernelspec": {
   "display_name": "Python 3 (ipykernel)",
   "language": "python",
   "name": "python3"
  },
  "language_info": {
   "codemirror_mode": {
    "name": "ipython",
    "version": 3
   },
   "file_extension": ".py",
   "mimetype": "text/x-python",
   "name": "python",
   "nbconvert_exporter": "python",
   "pygments_lexer": "ipython3",
   "version": "3.10.9"
  }
 },
 "nbformat": 4,
 "nbformat_minor": 5
}
